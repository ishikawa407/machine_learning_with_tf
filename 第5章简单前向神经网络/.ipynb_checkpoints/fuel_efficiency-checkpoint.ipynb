{
 "cells": [
  {
   "cell_type": "code",
   "execution_count": 1,
   "metadata": {},
   "outputs": [
    {
     "name": "stderr",
     "output_type": "stream",
     "text": [
      "Using TensorFlow backend.\n"
     ]
    }
   ],
   "source": [
    "import tensorflow as tf\n",
    "import numpy as np\n",
    "from sklearn.preprocessing import StandardScaler\n",
    "import pandas as pd\n",
    "import matplotlib.pyplot as plt\n",
    "from sklearn import datasets, metrics\n",
    "from sklearn.model_selection import cross_validate, train_test_split\n",
    "import keras\n",
    "import warnings\n",
    "%matplotlib inline\n",
    "warnings.filterwarnings('ignore')"
   ]
  },
  {
   "cell_type": "code",
   "execution_count": 2,
   "metadata": {},
   "outputs": [],
   "source": [
    "# Read the original dataset\n",
    "df = pd.read_csv(\"data/mpg.csv\", header=0)\n",
    "# Convert the displacement column as float\n",
    "df[\"displacement\"] = df[\"displacement\"].astype(float)\n",
    "y = df['mpg']\n",
    "X = df.drop(columns=['mpg', 'name'])"
   ]
  },
  {
   "cell_type": "code",
   "execution_count": 3,
   "metadata": {},
   "outputs": [
    {
     "data": {
      "text/html": [
       "<div>\n",
       "<style scoped>\n",
       "    .dataframe tbody tr th:only-of-type {\n",
       "        vertical-align: middle;\n",
       "    }\n",
       "\n",
       "    .dataframe tbody tr th {\n",
       "        vertical-align: top;\n",
       "    }\n",
       "\n",
       "    .dataframe thead th {\n",
       "        text-align: right;\n",
       "    }\n",
       "</style>\n",
       "<table border=\"1\" class=\"dataframe\">\n",
       "  <thead>\n",
       "    <tr style=\"text-align: right;\">\n",
       "      <th></th>\n",
       "      <th>mpg</th>\n",
       "      <th>cylinders</th>\n",
       "      <th>displacement</th>\n",
       "      <th>horsepower</th>\n",
       "      <th>weight</th>\n",
       "      <th>acceleration</th>\n",
       "      <th>model_year</th>\n",
       "      <th>origin</th>\n",
       "      <th>name</th>\n",
       "    </tr>\n",
       "  </thead>\n",
       "  <tbody>\n",
       "    <tr>\n",
       "      <th>0</th>\n",
       "      <td>18.0</td>\n",
       "      <td>8</td>\n",
       "      <td>307.0</td>\n",
       "      <td>130</td>\n",
       "      <td>3504</td>\n",
       "      <td>12.0</td>\n",
       "      <td>70</td>\n",
       "      <td>1</td>\n",
       "      <td>chevrolet chevelle malibu</td>\n",
       "    </tr>\n",
       "    <tr>\n",
       "      <th>1</th>\n",
       "      <td>15.0</td>\n",
       "      <td>8</td>\n",
       "      <td>350.0</td>\n",
       "      <td>165</td>\n",
       "      <td>3693</td>\n",
       "      <td>11.5</td>\n",
       "      <td>70</td>\n",
       "      <td>1</td>\n",
       "      <td>buick skylark 320</td>\n",
       "    </tr>\n",
       "    <tr>\n",
       "      <th>2</th>\n",
       "      <td>18.0</td>\n",
       "      <td>8</td>\n",
       "      <td>318.0</td>\n",
       "      <td>150</td>\n",
       "      <td>3436</td>\n",
       "      <td>11.0</td>\n",
       "      <td>70</td>\n",
       "      <td>1</td>\n",
       "      <td>plymouth satellite</td>\n",
       "    </tr>\n",
       "    <tr>\n",
       "      <th>3</th>\n",
       "      <td>16.0</td>\n",
       "      <td>8</td>\n",
       "      <td>304.0</td>\n",
       "      <td>150</td>\n",
       "      <td>3433</td>\n",
       "      <td>12.0</td>\n",
       "      <td>70</td>\n",
       "      <td>1</td>\n",
       "      <td>amc rebel sst</td>\n",
       "    </tr>\n",
       "    <tr>\n",
       "      <th>4</th>\n",
       "      <td>17.0</td>\n",
       "      <td>8</td>\n",
       "      <td>302.0</td>\n",
       "      <td>140</td>\n",
       "      <td>3449</td>\n",
       "      <td>10.5</td>\n",
       "      <td>70</td>\n",
       "      <td>1</td>\n",
       "      <td>ford torino</td>\n",
       "    </tr>\n",
       "  </tbody>\n",
       "</table>\n",
       "</div>"
      ],
      "text/plain": [
       "    mpg  cylinders  displacement  horsepower  weight  acceleration  \\\n",
       "0  18.0          8         307.0         130    3504          12.0   \n",
       "1  15.0          8         350.0         165    3693          11.5   \n",
       "2  18.0          8         318.0         150    3436          11.0   \n",
       "3  16.0          8         304.0         150    3433          12.0   \n",
       "4  17.0          8         302.0         140    3449          10.5   \n",
       "\n",
       "   model_year  origin                       name  \n",
       "0          70       1  chevrolet chevelle malibu  \n",
       "1          70       1          buick skylark 320  \n",
       "2          70       1         plymouth satellite  \n",
       "3          70       1              amc rebel sst  \n",
       "4          70       1                ford torino  "
      ]
     },
     "execution_count": 3,
     "metadata": {},
     "output_type": "execute_result"
    }
   ],
   "source": [
    "df.head()"
   ]
  },
  {
   "cell_type": "code",
   "execution_count": 4,
   "metadata": {},
   "outputs": [
    {
     "data": {
      "text/html": [
       "<div>\n",
       "<style scoped>\n",
       "    .dataframe tbody tr th:only-of-type {\n",
       "        vertical-align: middle;\n",
       "    }\n",
       "\n",
       "    .dataframe tbody tr th {\n",
       "        vertical-align: top;\n",
       "    }\n",
       "\n",
       "    .dataframe thead th {\n",
       "        text-align: right;\n",
       "    }\n",
       "</style>\n",
       "<table border=\"1\" class=\"dataframe\">\n",
       "  <thead>\n",
       "    <tr style=\"text-align: right;\">\n",
       "      <th></th>\n",
       "      <th>cylinders</th>\n",
       "      <th>displacement</th>\n",
       "      <th>horsepower</th>\n",
       "      <th>weight</th>\n",
       "      <th>acceleration</th>\n",
       "      <th>model_year</th>\n",
       "      <th>origin</th>\n",
       "    </tr>\n",
       "  </thead>\n",
       "  <tbody>\n",
       "    <tr>\n",
       "      <th>0</th>\n",
       "      <td>8</td>\n",
       "      <td>307.0</td>\n",
       "      <td>130</td>\n",
       "      <td>3504</td>\n",
       "      <td>12.0</td>\n",
       "      <td>70</td>\n",
       "      <td>1</td>\n",
       "    </tr>\n",
       "    <tr>\n",
       "      <th>1</th>\n",
       "      <td>8</td>\n",
       "      <td>350.0</td>\n",
       "      <td>165</td>\n",
       "      <td>3693</td>\n",
       "      <td>11.5</td>\n",
       "      <td>70</td>\n",
       "      <td>1</td>\n",
       "    </tr>\n",
       "    <tr>\n",
       "      <th>2</th>\n",
       "      <td>8</td>\n",
       "      <td>318.0</td>\n",
       "      <td>150</td>\n",
       "      <td>3436</td>\n",
       "      <td>11.0</td>\n",
       "      <td>70</td>\n",
       "      <td>1</td>\n",
       "    </tr>\n",
       "    <tr>\n",
       "      <th>3</th>\n",
       "      <td>8</td>\n",
       "      <td>304.0</td>\n",
       "      <td>150</td>\n",
       "      <td>3433</td>\n",
       "      <td>12.0</td>\n",
       "      <td>70</td>\n",
       "      <td>1</td>\n",
       "    </tr>\n",
       "    <tr>\n",
       "      <th>4</th>\n",
       "      <td>8</td>\n",
       "      <td>302.0</td>\n",
       "      <td>140</td>\n",
       "      <td>3449</td>\n",
       "      <td>10.5</td>\n",
       "      <td>70</td>\n",
       "      <td>1</td>\n",
       "    </tr>\n",
       "  </tbody>\n",
       "</table>\n",
       "</div>"
      ],
      "text/plain": [
       "   cylinders  displacement  horsepower  weight  acceleration  model_year  \\\n",
       "0          8         307.0         130    3504          12.0          70   \n",
       "1          8         350.0         165    3693          11.5          70   \n",
       "2          8         318.0         150    3436          11.0          70   \n",
       "3          8         304.0         150    3433          12.0          70   \n",
       "4          8         302.0         140    3449          10.5          70   \n",
       "\n",
       "   origin  \n",
       "0       1  \n",
       "1       1  \n",
       "2       1  \n",
       "3       1  \n",
       "4       1  "
      ]
     },
     "execution_count": 4,
     "metadata": {},
     "output_type": "execute_result"
    }
   ],
   "source": [
    "X.head()"
   ]
  },
  {
   "cell_type": "code",
   "execution_count": 5,
   "metadata": {},
   "outputs": [
    {
     "data": {
      "text/plain": [
       "0    18.0\n",
       "1    15.0\n",
       "2    18.0\n",
       "3    16.0\n",
       "4    17.0\n",
       "Name: mpg, dtype: float64"
      ]
     },
     "execution_count": 5,
     "metadata": {},
     "output_type": "execute_result"
    }
   ],
   "source": [
    "y.head()"
   ]
  },
  {
   "cell_type": "code",
   "execution_count": 6,
   "metadata": {},
   "outputs": [
    {
     "data": {
      "image/png": "[encoded data removed]",
      "text/plain": [
       "<Figure size 432x288 with 7 Axes>"
      ]
     },
     "metadata": {
      "needs_background": "light"
     },
     "output_type": "display_data"
    }
   ],
   "source": [
    "plt.figure()\n",
    "for i in range(1, 8):\n",
    "    number = 450 + i\n",
    "    ax1 = plt.subplot(number)\n",
    "    plt.title(list(df)[i])\n",
    "    ax1.scatter(df[df.columns[i]], y)\n",
    "plt.tight_layout(pad=0.4, w_pad=0.5, h_pad=1.0)"
   ]
  },
  {
   "cell_type": "code",
   "execution_count": 7,
   "metadata": {},
   "outputs": [],
   "source": [
    "#split the datasets\n",
    "X_train, X_test, y_train, y_test = train_test_split(X, y,\n",
    "                                                    test_size=0.25,\n",
    "                                                    random_state=1)"
   ]
  },
  {
   "cell_type": "code",
   "execution_count": 8,
   "metadata": {},
   "outputs": [],
   "source": [
    "# Scale the data for convergency optimization\n",
    "scaler = StandardScaler()\n",
    "X_train = scaler.fit_transform(X_train)\n",
    "X_test = scaler.transform(X_test)"
   ]
  },
  {
   "cell_type": "code",
   "execution_count": 9,
   "metadata": {},
   "outputs": [],
   "source": [
    "# Build a 2leyer fully connected DNN with 10 and 5 units respectively\n",
    "def model(X, hidden_w1, b1, hiddenw2, b2, ow, b3):\n",
    "    # 1st hidden layer\n",
    "    a1 = tf.nn.leaky_relu(tf.add(tf.matmul(hidden_w1, X), b1))\n",
    "    # 2nd hidden layer\n",
    "    a2 = tf.nn.leaky_relu(tf.matmul(hidden_w2, a1) + b2)\n",
    "    # output\n",
    "    output = tf.matmul(ow, a2) + b3\n",
    "    return output"
   ]
  },
  {
   "cell_type": "code",
   "execution_count": 10,
   "metadata": {},
   "outputs": [
    {
     "name": "stdout",
     "output_type": "stream",
     "text": [
      "\n",
      "WARNING: The TensorFlow contrib module will not be included in TensorFlow 2.0.\n",
      "For more information, please see:\n",
      "  * https://github.com/tensorflow/community/blob/master/rfcs/20180907-contrib-sunset.md\n",
      "  * https://github.com/tensorflow/addons\n",
      "If you depend on functionality not listed there, please file an issue.\n",
      "\n",
      "WARNING:tensorflow:From /home/ishikawa407/anaconda3/lib/python3.7/site-packages/tensorflow/python/framework/op_def_library.py:263: colocate_with (from tensorflow.python.framework.ops) is deprecated and will be removed in a future version.\n",
      "Instructions for updating:\n",
      "Colocations handled automatically by placer.\n"
     ]
    }
   ],
   "source": [
    "# Create X, y\n",
    "X = tf.placeholder(dtype=\"float32\", shape=[7, None])\n",
    "Y = tf.placeholder(dtype=\"float32\", shape=None)\n",
    "# Create 1st hidden layer\n",
    "hidden_w1 = tf.get_variable(shape=[10, 7], initializer=tf.contrib.layers.xavier_initializer(), name='w1')\n",
    "b1 = tf.Variable(tf.zeros([10, 1]))\n",
    "# Create 2nd hidden layer\n",
    "hidden_w2 = tf.get_variable(shape=[5, 10], initializer=tf.contrib.layers.xavier_initializer(), name='w2')\n",
    "b2 = tf.Variable(tf.zeros([5, 1]))\n",
    "# Create output\n",
    "ow = tf.get_variable(shape=[1, 5], initializer=tf.contrib.layers.xavier_initializer(), name='ow')\n",
    "b3 = tf.Variable(tf.zeros([1]))\n",
    "output = model(X, hidden_w1, b1, hidden_w2, b2, ow, b3)"
   ]
  },
  {
   "cell_type": "code",
   "execution_count": 11,
   "metadata": {},
   "outputs": [],
   "source": [
    "# cost penlty\n",
    "penlty = 0*tf.reduce_sum(tf.square(ow)) + 0*tf.reduce_sum(tf.square(hidden_w1))\\\n",
    "         + tf.reduce_sum(tf.square(hidden_w2))\n",
    "# create alpha\n",
    "alpha = tf.placeholder(dtype=\"float32\")\n",
    "# create cost\n",
    "cost = tf.reduce_mean(tf.square(tf.subtract(output, Y))) + penlty*alpha"
   ]
  },
  {
   "cell_type": "code",
   "execution_count": 12,
   "metadata": {},
   "outputs": [
    {
     "name": "stdout",
     "output_type": "stream",
     "text": [
      "WARNING:tensorflow:From /home/ishikawa407/anaconda3/lib/python3.7/site-packages/tensorflow/python/ops/math_ops.py:3066: to_int32 (from tensorflow.python.ops.math_ops) is deprecated and will be removed in a future version.\n",
      "Instructions for updating:\n",
      "Use tf.cast instead.\n"
     ]
    }
   ],
   "source": [
    "# construct an optimizer\n",
    "train_op = tf.train.AdamOptimizer(0.05).minimize(cost)"
   ]
  },
  {
   "cell_type": "code",
   "execution_count": 13,
   "metadata": {},
   "outputs": [
    {
     "name": "stdout",
     "output_type": "stream",
     "text": [
      "eohcpe =  100\n",
      "train loss: 62.22929 Val loss: 53.583485\n",
      "------------------------------\n",
      "eohcpe =  200\n",
      "train loss: 62.227577 Val loss: 53.560925\n",
      "------------------------------\n",
      "eohcpe =  300\n",
      "train loss: 62.227573 Val loss: 53.561005\n",
      "------------------------------\n",
      "eohcpe =  400\n",
      "train loss: 62.227577 Val loss: 53.561005\n",
      "------------------------------\n",
      "eohcpe =  500\n",
      "train loss: 62.30276 Val loss: 54.267426\n",
      "------------------------------\n",
      "eohcpe =  600\n",
      "train loss: 62.227566 Val loss: 53.56027\n",
      "------------------------------\n",
      "eohcpe =  700\n",
      "train loss: 62.227573 Val loss: 53.56102\n",
      "------------------------------\n",
      "eohcpe =  800\n",
      "train loss: 62.227573 Val loss: 53.56074\n",
      "------------------------------\n",
      "eohcpe =  900\n",
      "train loss: 62.227596 Val loss: 53.549644\n",
      "------------------------------\n",
      "eohcpe =  1000\n",
      "train loss: 62.227573 Val loss: 53.560963\n",
      "------------------------------\n",
      "eohcpe =  1100\n",
      "train loss: 62.227577 Val loss: 53.561\n",
      "------------------------------\n",
      "eohcpe =  1200\n",
      "train loss: 62.228397 Val loss: 53.495693\n",
      "------------------------------\n",
      "eohcpe =  1300\n",
      "train loss: 62.227577 Val loss: 53.561108\n",
      "------------------------------\n",
      "eohcpe =  1400\n",
      "train loss: 62.227566 Val loss: 53.561012\n",
      "------------------------------\n",
      "eohcpe =  1500\n",
      "train loss: 62.228554 Val loss: 53.63271\n",
      "------------------------------\n",
      "eohcpe =  1600\n",
      "train loss: 62.227577 Val loss: 53.563183\n",
      "------------------------------\n",
      "eohcpe =  1700\n",
      "train loss: 62.227577 Val loss: 53.56114\n",
      "------------------------------\n",
      "eohcpe =  1800\n",
      "train loss: 62.227592 Val loss: 53.556164\n",
      "------------------------------\n",
      "eohcpe =  1900\n",
      "train loss: 62.227573 Val loss: 53.561104\n",
      "------------------------------\n",
      "eohcpe =  2000\n",
      "train loss: 62.230186 Val loss: 53.633163\n",
      "------------------------------\n",
      "eohcpe =  2100\n",
      "train loss: 62.227573 Val loss: 53.55967\n",
      "------------------------------\n",
      "eohcpe =  2200\n",
      "train loss: 62.227566 Val loss: 53.56103\n",
      "------------------------------\n",
      "eohcpe =  2300\n",
      "train loss: 62.227573 Val loss: 53.560997\n",
      "------------------------------\n",
      "eohcpe =  2400\n",
      "train loss: 62.236225 Val loss: 53.44835\n",
      "------------------------------\n",
      "eohcpe =  2500\n",
      "train loss: 62.227577 Val loss: 53.560703\n",
      "------------------------------\n",
      "eohcpe =  2600\n",
      "train loss: 62.227875 Val loss: 53.578175\n",
      "------------------------------\n",
      "eohcpe =  2700\n",
      "train loss: 62.227577 Val loss: 53.560894\n",
      "------------------------------\n",
      "eohcpe =  2800\n",
      "train loss: 62.37466 Val loss: 53.481533\n",
      "------------------------------\n",
      "eohcpe =  2900\n",
      "train loss: 62.227573 Val loss: 53.55966\n",
      "------------------------------\n",
      "eohcpe =  3000\n",
      "train loss: 62.230022 Val loss: 53.552467\n",
      "------------------------------\n",
      "eohcpe =  3100\n",
      "train loss: 62.227737 Val loss: 53.57949\n",
      "------------------------------\n",
      "eohcpe =  3200\n",
      "train loss: 62.227592 Val loss: 53.55674\n",
      "------------------------------\n",
      "eohcpe =  3300\n",
      "train loss: 62.227596 Val loss: 53.561874\n",
      "------------------------------\n",
      "eohcpe =  3400\n",
      "train loss: 62.24557 Val loss: 53.74342\n",
      "------------------------------\n",
      "eohcpe =  3500\n",
      "train loss: 62.227573 Val loss: 53.559643\n",
      "------------------------------\n",
      "eohcpe =  3600\n",
      "train loss: 62.227684 Val loss: 53.54519\n",
      "------------------------------\n",
      "eohcpe =  3700\n",
      "train loss: 62.227577 Val loss: 53.55866\n",
      "------------------------------\n",
      "eohcpe =  3800\n",
      "train loss: 62.227585 Val loss: 53.55927\n",
      "------------------------------\n",
      "eohcpe =  3900\n",
      "train loss: 62.239075 Val loss: 53.421024\n",
      "------------------------------\n",
      "eohcpe =  4000\n",
      "train loss: 62.227566 Val loss: 53.562798\n",
      "------------------------------\n",
      "eohcpe =  4100\n",
      "train loss: 62.28604 Val loss: 53.34492\n",
      "------------------------------\n",
      "eohcpe =  4200\n",
      "train loss: 62.227573 Val loss: 53.561844\n",
      "------------------------------\n",
      "eohcpe =  4300\n",
      "train loss: 62.228294 Val loss: 53.541485\n",
      "------------------------------\n",
      "eohcpe =  4400\n",
      "train loss: 62.229046 Val loss: 53.57387\n",
      "------------------------------\n",
      "eohcpe =  4500\n",
      "train loss: 62.227585 Val loss: 53.55896\n",
      "------------------------------\n",
      "eohcpe =  4600\n",
      "train loss: 62.227577 Val loss: 53.561836\n",
      "------------------------------\n",
      "eohcpe =  4700\n",
      "train loss: 62.227596 Val loss: 53.564415\n",
      "------------------------------\n",
      "eohcpe =  4800\n",
      "train loss: 62.227573 Val loss: 53.561157\n",
      "------------------------------\n",
      "eohcpe =  4900\n",
      "train loss: 62.228737 Val loss: 53.54534\n",
      "------------------------------\n",
      "eohcpe =  5000\n",
      "train loss: 62.227623 Val loss: 53.55947\n",
      "------------------------------\n",
      "eohcpe =  5100\n",
      "train loss: 62.24278 Val loss: 53.486584\n",
      "------------------------------\n",
      "eohcpe =  5200\n",
      "train loss: 62.227577 Val loss: 53.561535\n",
      "------------------------------\n",
      "eohcpe =  5300\n",
      "train loss: 62.243713 Val loss: 53.460236\n",
      "------------------------------\n",
      "eohcpe =  5400\n",
      "train loss: 62.288578 Val loss: 53.700165\n",
      "------------------------------\n",
      "eohcpe =  5500\n",
      "train loss: 62.227577 Val loss: 53.559715\n",
      "------------------------------\n",
      "eohcpe =  5600\n",
      "train loss: 62.22804 Val loss: 53.55532\n",
      "------------------------------\n",
      "eohcpe =  5700\n",
      "train loss: 62.273903 Val loss: 53.39233\n",
      "------------------------------\n",
      "eohcpe =  5800\n",
      "train loss: 62.229713 Val loss: 53.571568\n",
      "------------------------------\n",
      "eohcpe =  5900\n",
      "train loss: 62.27313 Val loss: 53.528934\n",
      "------------------------------\n",
      "eohcpe =  6000\n",
      "train loss: 62.227604 Val loss: 53.560867\n",
      "------------------------------\n",
      "eohcpe =  6100\n",
      "train loss: 62.257267 Val loss: 53.80796\n",
      "------------------------------\n",
      "eohcpe =  6200\n",
      "train loss: 62.232086 Val loss: 53.587387\n",
      "------------------------------\n",
      "eohcpe =  6300\n",
      "train loss: 62.234028 Val loss: 53.613556\n",
      "------------------------------\n",
      "eohcpe =  6400\n",
      "train loss: 62.227573 Val loss: 53.561054\n",
      "------------------------------\n",
      "eohcpe =  6500\n",
      "train loss: 62.23027 Val loss: 53.55648\n",
      "------------------------------\n",
      "eohcpe =  6600\n",
      "train loss: 62.227573 Val loss: 53.560745\n",
      "------------------------------\n",
      "eohcpe =  6700\n",
      "train loss: 62.231598 Val loss: 53.562035\n",
      "------------------------------\n",
      "eohcpe =  6800\n",
      "train loss: 62.227577 Val loss: 53.561085\n",
      "------------------------------\n",
      "eohcpe =  6900\n",
      "train loss: 62.238525 Val loss: 53.579185\n",
      "------------------------------\n",
      "eohcpe =  7000\n",
      "train loss: 62.228123 Val loss: 53.552784\n",
      "------------------------------\n",
      "eohcpe =  7100\n",
      "train loss: 62.228573 Val loss: 53.54483\n",
      "------------------------------\n",
      "eohcpe =  7200\n",
      "train loss: 62.550728 Val loss: 54.18061\n",
      "------------------------------\n",
      "eohcpe =  7300\n",
      "train loss: 62.227577 Val loss: 53.55952\n",
      "------------------------------\n",
      "eohcpe =  7400\n",
      "train loss: 62.227783 Val loss: 53.57155\n",
      "------------------------------\n",
      "eohcpe =  7500\n",
      "train loss: 62.227684 Val loss: 53.552303\n",
      "------------------------------\n",
      "eohcpe =  7600\n",
      "train loss: 62.227585 Val loss: 53.559555\n",
      "------------------------------\n",
      "eohcpe =  7700\n",
      "train loss: 62.227623 Val loss: 53.559444\n",
      "------------------------------\n",
      "eohcpe =  7800\n",
      "train loss: 62.23266 Val loss: 53.658016\n",
      "------------------------------\n",
      "eohcpe =  7900\n",
      "train loss: 62.229904 Val loss: 53.53741\n",
      "------------------------------\n",
      "eohcpe =  8000\n",
      "train loss: 62.227623 Val loss: 53.565155\n",
      "------------------------------\n",
      "eohcpe =  8100\n",
      "train loss: 62.227604 Val loss: 53.565792\n",
      "------------------------------\n",
      "eohcpe =  8200\n",
      "train loss: 62.390324 Val loss: 53.977715\n",
      "------------------------------\n",
      "eohcpe =  8300\n",
      "train loss: 62.227585 Val loss: 53.561485\n",
      "------------------------------\n",
      "eohcpe =  8400\n",
      "train loss: 62.227898 Val loss: 53.567574\n",
      "------------------------------\n",
      "eohcpe =  8500\n",
      "train loss: 62.46533 Val loss: 53.98094\n",
      "------------------------------\n",
      "eohcpe =  8600\n",
      "train loss: 62.22775 Val loss: 53.544205\n",
      "------------------------------\n",
      "eohcpe =  8700\n",
      "train loss: 62.407364 Val loss: 53.543575\n",
      "------------------------------\n",
      "eohcpe =  8800\n",
      "train loss: 62.227585 Val loss: 53.562744\n",
      "------------------------------\n",
      "eohcpe =  8900\n",
      "train loss: 62.228992 Val loss: 53.550125\n",
      "------------------------------\n",
      "eohcpe =  9000\n",
      "train loss: 62.227566 Val loss: 53.56143\n",
      "------------------------------\n",
      "eohcpe =  9100\n",
      "train loss: 62.22845 Val loss: 53.558205\n",
      "------------------------------\n",
      "eohcpe =  9200\n",
      "train loss: 62.227573 Val loss: 53.560898\n",
      "------------------------------\n",
      "eohcpe =  9300\n",
      "train loss: 62.22773 Val loss: 53.561264\n",
      "------------------------------\n",
      "eohcpe =  9400\n",
      "train loss: 62.228443 Val loss: 53.594833\n",
      "------------------------------\n",
      "eohcpe =  9500\n",
      "train loss: 62.231262 Val loss: 53.4835\n",
      "------------------------------\n"
     ]
    },
    {
     "name": "stdout",
     "output_type": "stream",
     "text": [
      "eohcpe =  9600\n",
      "train loss: 62.228523 Val loss: 53.55838\n",
      "------------------------------\n",
      "eohcpe =  9700\n",
      "train loss: 62.428555 Val loss: 53.5552\n",
      "------------------------------\n",
      "eohcpe =  9800\n",
      "train loss: 62.23035 Val loss: 53.494526\n",
      "------------------------------\n",
      "eohcpe =  9900\n",
      "train loss: 62.2702 Val loss: 53.729664\n",
      "------------------------------\n"
     ]
    }
   ],
   "source": [
    "# Launch the graph in a session\n",
    "with tf.Session() as sess:\n",
    "    tf.global_variables_initializer().run()\n",
    "    for i in range(1, 10000):\n",
    "        #for x1, y1 in zip(X_train, y_train):\n",
    "        sess.run([train_op, cost], feed_dict={X: X_train.reshape(7,-1), Y: y_train, alpha: 0})\n",
    "        if i % 100 == 0:\n",
    "            print(\"eohcpe = \", i)\n",
    "            print(\"train loss:\", sess.run(cost, feed_dict={X: X_train.reshape(7, -1), Y: y_train, alpha:0}),\n",
    "                  \"Val loss:\",  sess.run(cost, feed_dict={X: X_test.reshape(7, -1), Y:y_test, alpha:0}))\n",
    "            print(\"------------------------------\")\n",
    "        y_pred = sess.run(output, feed_dict={X: X_train.reshape(7, -1), Y: y_train, alpha:0})"
   ]
  },
  {
   "cell_type": "code",
   "execution_count": 14,
   "metadata": {},
   "outputs": [
    {
     "data": {
      "text/plain": [
       "1.2679227675583813"
      ]
     },
     "execution_count": 14,
     "metadata": {},
     "output_type": "execute_result"
    },
    {
     "data": {
      "image/png": "[encoded data removed]",
      "text/plain": [
       "<Figure size 432x288 with 1 Axes>"
      ]
     },
     "metadata": {
      "needs_background": "light"
     },
     "output_type": "display_data"
    }
   ],
   "source": [
    "plt.scatter(range(298), y_pred)\n",
    "plt.scatter(range(298), y_train)\n",
    "np.sum(np.sqrt(y_pred.reshape(298,) - y_train))/y_train.shape[0]"
   ]
  },
  {
   "cell_type": "code",
   "execution_count": 15,
   "metadata": {},
   "outputs": [],
   "source": [
    "from sklearn.linear_model import SGDRegressor"
   ]
  },
  {
   "cell_type": "code",
   "execution_count": null,
   "metadata": {},
   "outputs": [],
   "source": []
  },
  {
   "cell_type": "code",
   "execution_count": 16,
   "metadata": {},
   "outputs": [],
   "source": [
    "reger = SGDRegressor(alpha=0.05)"
   ]
  },
  {
   "cell_type": "code",
   "execution_count": 17,
   "metadata": {},
   "outputs": [
    {
     "data": {
      "text/plain": [
       "SGDRegressor(alpha=0.05, average=False, early_stopping=False, epsilon=0.1,\n",
       "       eta0=0.01, fit_intercept=True, l1_ratio=0.15,\n",
       "       learning_rate='invscaling', loss='squared_loss', max_iter=None,\n",
       "       n_iter=None, n_iter_no_change=5, penalty='l2', power_t=0.25,\n",
       "       random_state=None, shuffle=True, tol=None, validation_fraction=0.1,\n",
       "       verbose=0, warm_start=False)"
      ]
     },
     "execution_count": 17,
     "metadata": {},
     "output_type": "execute_result"
    }
   ],
   "source": [
    "reger.fit(X_train, y_train)"
   ]
  },
  {
   "cell_type": "code",
   "execution_count": 18,
   "metadata": {},
   "outputs": [],
   "source": [
    "y_pred = reger.predict(X_train)"
   ]
  },
  {
   "cell_type": "code",
   "execution_count": 19,
   "metadata": {},
   "outputs": [
    {
     "data": {
      "text/plain": [
       "<matplotlib.collections.PathCollection at 0x7f8dad18d080>"
      ]
     },
     "execution_count": 19,
     "metadata": {},
     "output_type": "execute_result"
    },
    {
     "data": {
      "image/png": "[encoded data removed]",
      "text/plain": [
       "<Figure size 432x288 with 1 Axes>"
      ]
     },
     "metadata": {
      "needs_background": "light"
     },
     "output_type": "display_data"
    }
   ],
   "source": [
    "plt.scatter(range(298), y_pred)\n",
    "plt.scatter(range(298), y_train)\n"
   ]
  },
  {
   "cell_type": "code",
   "execution_count": 20,
   "metadata": {},
   "outputs": [
    {
     "data": {
      "text/plain": [
       "0.5661987491028961"
      ]
     },
     "execution_count": 20,
     "metadata": {},
     "output_type": "execute_result"
    }
   ],
   "source": [
    "np.sum(np.sqrt(y_pred - y_train))/y_pred.shape[0]"
   ]
  },
  {
   "cell_type": "code",
   "execution_count": 21,
   "metadata": {},
   "outputs": [
    {
     "data": {
      "text/plain": [
       "0.5409801802556923"
      ]
     },
     "execution_count": 21,
     "metadata": {},
     "output_type": "execute_result"
    }
   ],
   "source": [
    "y_pred = reger.predict(X_test)\n",
    "np.sum(np.sqrt(y_pred - y_test))/y_pred.shape[0]"
   ]
  },
  {
   "cell_type": "code",
   "execution_count": null,
   "metadata": {},
   "outputs": [],
   "source": []
  }
 ],
 "metadata": {
  "kernelspec": {
   "display_name": "Python 3",
   "language": "python",
   "name": "python3"
  },
  "language_info": {
   "codemirror_mode": {
    "name": "ipython",
    "version": 3
   },
   "file_extension": ".py",
   "mimetype": "text/x-python",
   "name": "python",
   "nbconvert_exporter": "python",
   "pygments_lexer": "ipython3",
   "version": "3.7.1"
  }
 },
 "nbformat": 4,
 "nbformat_minor": 2
}
